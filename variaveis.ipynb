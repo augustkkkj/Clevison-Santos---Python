{
 "cells": [
  {
   "cell_type": "code",
   "execution_count": null,
   "metadata": {
    "colab": {
     "base_uri": "https://localhost:8080/"
    },
    "executionInfo": {
     "elapsed": 389,
     "status": "ok",
     "timestamp": 1728440854210,
     "user": {
      "displayName": "Otávio Augusto",
      "userId": "16842260380846823912"
     },
     "user_tz": 180
    },
    "id": "lgF3gPQMClnw",
    "outputId": "6704b926-4f5b-4443-8432-eedafabd014f"
   },
   "outputs": [
    {
     "name": "stdout",
     "output_type": "stream",
     "text": [
      "<class 'str'>\n",
      "<class 'int'>\n"
     ]
    }
   ],
   "source": [
    "#podemo obter o tipo de uma variavel usando a função type(ingual a typeof do javascript)\n",
    "nome = \"Ana Paula\"\n",
    "idade = 31\n",
    "\n",
    "#se eu colocar \"str\" ou int antes de printar o nome, eu tbm consigo a mesma informação do type\n",
    "print(type(nome))\n",
    "print(type(idade))\n",
    "\n"
   ]
  },
  {
   "cell_type": "code",
   "execution_count": null,
   "metadata": {
    "colab": {
     "base_uri": "https://localhost:8080/"
    },
    "executionInfo": {
     "elapsed": 325,
     "status": "ok",
     "timestamp": 1728440884853,
     "user": {
      "displayName": "Otávio Augusto",
      "userId": "16842260380846823912"
     },
     "user_tz": 180
    },
    "id": "sP7zRK4LGmPj",
    "outputId": "fb8a789d-7ff0-45c1-b58c-01da0dba24ab"
   },
   "outputs": [
    {
     "name": "stdout",
     "output_type": "stream",
     "text": [
      "30\n",
      "Ana\n"
     ]
    }
   ],
   "source": [
    "#as variaveis diferenciam letras maiusculas de minusculas\n",
    "i = 30\n",
    "I = \"Ana\"\n",
    "\n",
    "print(i)\n",
    "print(I)"
   ]
  },
  {
   "cell_type": "code",
   "execution_count": null,
   "metadata": {
    "colab": {
     "base_uri": "https://localhost:8080/"
    },
    "executionInfo": {
     "elapsed": 293,
     "status": "ok",
     "timestamp": 1728441115025,
     "user": {
      "displayName": "Otávio Augusto",
      "userId": "16842260380846823912"
     },
     "user_tz": 180
    },
    "id": "vCEaZPZHG5-e",
    "outputId": "e2ed3fcf-371a-4d68-f92b-32694d9a2bd3"
   },
   "outputs": [
    {
     "name": "stdout",
     "output_type": "stream",
     "text": [
      "Text1\n",
      "Text2\n",
      "Text3\n",
      "Text4\n",
      "Text1 Text2 Text3 Text4\n"
     ]
    }
   ],
   "source": [
    "#podem o tbm atribuir valores a varias variaveis em uma so linha\n",
    "var1, var2, var3, var4 = \"Text1\", \"Text2\", \"Text3\", \"Text4\"\n",
    "\n",
    "print(var1)\n",
    "print(var2)\n",
    "print(var3)\n",
    "print(var4)\n",
    "\n",
    "print(var1, var2, var3, var4)"
   ]
  },
  {
   "cell_type": "code",
   "execution_count": null,
   "metadata": {
    "colab": {
     "base_uri": "https://localhost:8080/"
    },
    "executionInfo": {
     "elapsed": 318,
     "status": "ok",
     "timestamp": 1728441419027,
     "user": {
      "displayName": "Otávio Augusto",
      "userId": "16842260380846823912"
     },
     "user_tz": 180
    },
    "id": "VIuIDP0uHofF",
    "outputId": "9dfb9f9c-28e1-476d-bc7f-fee9e6fccb97"
   },
   "outputs": [
    {
     "name": "stdout",
     "output_type": "stream",
     "text": [
      "Otavio\n",
      "Otavio\n",
      "Otavio\n",
      "Otavio\n"
     ]
    }
   ],
   "source": [
    "#podemos colocar o mesmo valor a varias variaveis em uma unica linha\n",
    "var1 = var2 = var3 = var4 = \"Otavio\"\n",
    "\n",
    "print(var1)\n",
    "print(var2)\n",
    "print(var3)\n",
    "print(var4)"
   ]
  },
  {
   "cell_type": "code",
   "execution_count": null,
   "metadata": {
    "colab": {
     "base_uri": "https://localhost:8080/"
    },
    "executionInfo": {
     "elapsed": 281,
     "status": "ok",
     "timestamp": 1728441303905,
     "user": {
      "displayName": "Otávio Augusto",
      "userId": "16842260380846823912"
     },
     "user_tz": 180
    },
    "id": "RuiXmdEEHzMm",
    "outputId": "0059ab35-15bf-449b-edc3-e0f9f9208582"
   },
   "outputs": [
    {
     "name": "stdout",
     "output_type": "stream",
     "text": [
      "texto 1\n",
      "texto 2\n",
      "texto 3\n"
     ]
    }
   ],
   "source": [
    "#se tiver uma coleção de valores em uma lista, podemos extrair em variaveis. Isso é chamado de descompactar\n",
    "exemplo = \"texto 1\", \"texto 2\", \"texto 3\",\n",
    "var1, var2, var3 = exemplo\n",
    "print(var1)\n",
    "print(var2)\n",
    "print(var3)"
   ]
  },
  {
   "cell_type": "code",
   "execution_count": null,
   "metadata": {
    "colab": {
     "base_uri": "https://localhost:8080/"
    },
    "executionInfo": {
     "elapsed": 301,
     "status": "ok",
     "timestamp": 1728441748908,
     "user": {
      "displayName": "Otávio Augusto",
      "userId": "16842260380846823912"
     },
     "user_tz": 180
    },
    "id": "H0cLdy7WIwJN",
    "outputId": "96069fbe-8f9d-40ae-d46a-8a9f3ef2be78"
   },
   "outputs": [
    {
     "name": "stdout",
     "output_type": "stream",
     "text": [
      "o nome dela é  xana paula\n"
     ]
    }
   ],
   "source": [
    "#para juntar textos e variaveis em python usamos o caracter + ou ,\n",
    "nome = \"xana paula\"\n",
    "\n",
    "print(\"o nome dela é \", nome)"
   ]
  },
  {
   "cell_type": "code",
   "execution_count": null,
   "metadata": {
    "colab": {
     "base_uri": "https://localhost:8080/"
    },
    "executionInfo": {
     "elapsed": 313,
     "status": "ok",
     "timestamp": 1728441674606,
     "user": {
      "displayName": "Otávio Augusto",
      "userId": "16842260380846823912"
     },
     "user_tz": 180
    },
    "id": "iDF2FioWJme6",
    "outputId": "6324bc91-236d-42d1-e1c7-5e577666b0f0"
   },
   "outputs": [
    {
     "name": "stdout",
     "output_type": "stream",
     "text": [
      "dezcinco\n"
     ]
    }
   ],
   "source": [
    "num1 = \"dez\"\n",
    "num2 = \"cinco\"\n",
    "\n",
    "print(num1 + num2)"
   ]
  },
  {
   "cell_type": "code",
   "execution_count": null,
   "metadata": {
    "colab": {
     "base_uri": "https://localhost:8080/"
    },
    "executionInfo": {
     "elapsed": 379,
     "status": "ok",
     "timestamp": 1728442081998,
     "user": {
      "displayName": "Otávio Augusto",
      "userId": "16842260380846823912"
     },
     "user_tz": 180
    },
    "id": "Qd1NjQN8KAtB",
    "outputId": "192cafc8-857a-4aa2-d17b-df4b858d17a6"
   },
   "outputs": [
    {
     "name": "stdout",
     "output_type": "stream",
     "text": [
      "nome completo: xana paula\n",
      "nome completo: xana paula\n"
     ]
    }
   ],
   "source": [
    "nome = \"xana\"\n",
    "sobrenome = \"paula\"\n",
    "\n",
    "print(\"nome completo:\", nome, sobrenome)\n",
    "print(\"nome completo: \" + nome + \" \" + sobrenome)"
   ]
  },
  {
   "cell_type": "code",
   "execution_count": null,
   "metadata": {
    "colab": {
     "base_uri": "https://localhost:8080/"
    },
    "executionInfo": {
     "elapsed": 320,
     "status": "ok",
     "timestamp": 1728442648831,
     "user": {
      "displayName": "Otávio Augusto",
      "userId": "16842260380846823912"
     },
     "user_tz": 180
    },
    "id": "VXcTiZ4aLR_Y",
    "outputId": "8efa99ef-7ba8-4a80-bd51-66472659a2fe"
   },
   "outputs": [
    {
     "name": "stdout",
     "output_type": "stream",
     "text": [
      "A soma é: 125.5\n"
     ]
    }
   ],
   "source": [
    "#exercicios de variaveis em python\n",
    "\n",
    "#1- declare uma variavel chamada \"idade\" e atribua o valor 25 nela.\n",
    "idade = 25\n",
    "\n",
    "#2- declare uma variavel chamada \"nome\" e atribua o valor \"joao\" nela.\n",
    "nome = \"joao\"\n",
    "\n",
    "#3- declare uma variavel chamada \"saldo\" e atribua o valor \"20.400\" nela.\n",
    "saldo = 100.50\n",
    "\n",
    "#4- declare uma variavel chamada \"soma\" e atribua uma soma das variaveis \"idade\" e \"solda\".\n",
    "soma = idade + saldo\n",
    "\n",
    "#5- imprima na tela o valor da variavel \"soma\".\n",
    "print(\"A soma é:\", soma)"
   ]
  },
  {
   "cell_type": "code",
   "execution_count": 2,
   "metadata": {
    "colab": {
     "base_uri": "https://localhost:8080/"
    },
    "executionInfo": {
     "elapsed": 321,
     "status": "ok",
     "timestamp": 1728443123325,
     "user": {
      "displayName": "Otávio Augusto",
      "userId": "16842260380846823912"
     },
     "user_tz": 180
    },
    "id": "DF1bhvHuNcZu",
    "outputId": "4fe30da8-f15a-45d5-dc02-1c667569ba95"
   },
   "outputs": [
    {
     "name": "stdout",
     "output_type": "stream",
     "text": [
      "a media é 7.57\n"
     ]
    }
   ],
   "source": [
    "#1- crie uma variavel chamada \"nota1\" e atribua o valor 7.5 nela.\n",
    "nota1 = 7.5\n",
    "\n",
    "#2- cria uma variavel chamada \"nota2\" e atribua o valor de 8.3 nela.\n",
    "nota2 = 8.3\n",
    "\n",
    "#3- cria uma variavel chamada \"nota3\" e atribua o valor de 6.9 nela.\n",
    "nota3 = 6.9\n",
    "\n",
    "#4- calcule a media das tres notas e atribua o resultado na variavel chamada \"media\".\n",
    "media = (nota1 + nota2 + nota3)/ 3\n",
    "\n",
    "#5- imprima na tela o valor da \"media\" formatada com duas casas decimais\n",
    "print(\"a media é\", format(media, \".2f\"))\n",
    "\n",
    "#assim q formata um int quebrado format(media, \".2f\"))"
   ]
  },
  {
   "cell_type": "code",
   "execution_count": null,
   "metadata": {},
   "outputs": [],
   "source": []
  }
 ],
 "metadata": {
  "colab": {
   "authorship_tag": "ABX9TyPngCbCvPUl4iapC+hsUY+W",
   "provenance": []
  },
  "kernelspec": {
   "display_name": "Python 3",
   "language": "python",
   "name": "python3"
  },
  "language_info": {
   "codemirror_mode": {
    "name": "ipython",
    "version": 3
   },
   "file_extension": ".py",
   "mimetype": "text/x-python",
   "name": "python",
   "nbconvert_exporter": "python",
   "pygments_lexer": "ipython3",
   "version": "3.12.5"
  }
 },
 "nbformat": 4,
 "nbformat_minor": 4
}
