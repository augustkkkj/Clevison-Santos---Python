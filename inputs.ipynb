{
 "cells": [
  {
   "cell_type": "code",
   "execution_count": 3,
   "metadata": {},
   "outputs": [
    {
     "name": "stdout",
     "output_type": "stream",
     "text": [
      "\n",
      "o seu nome é: otavio\n"
     ]
    }
   ],
   "source": [
    "nome = input(\"digite seu nome: \\n\")\n",
    "\n",
    "print(\"\\no seu nome é: \" + nome)"
   ]
  },
  {
   "cell_type": "code",
   "execution_count": 7,
   "metadata": {},
   "outputs": [
    {
     "name": "stdout",
     "output_type": "stream",
     "text": [
      "Aluno:  sds \n",
      "Média:  2954.0\n"
     ]
    }
   ],
   "source": [
    "\"\"\"\"\"\n",
    "com a função input isso faz que o usuario possa digitar strings\n",
    "e juntando input e o float permite que ele digita numbers\n",
    "\"\"\"\"\"\n",
    "nome = input(\"digite seu nome: \\n\")\n",
    "nota1 = float(input(\"digite a nota: \"))\n",
    "nota2 = float(input(\"digite a segunda nota: \"))\n",
    "\n",
    "media = (nota1 + nota2)/2\n",
    "\n",
    "print(\"Aluno: \", nome, \"\\nMédia: \", media)"
   ]
  },
  {
   "cell_type": "code",
   "execution_count": null,
   "metadata": {},
   "outputs": [],
   "source": [
    "\"\"\"\n",
    "\n",
    "Exercício: Tabuada Personalizada\n",
    "\n",
    "Escreva um programa que solicite ao usuário um número inteiro e exiba a tabuada desse número, do 1 ao 10.\n",
    "\n",
    "Entrada:\n",
    "\n",
    "    Um número inteiro n, representando o número do qual você deseja ver a tabuada.\n",
    "\n",
    "Saída:\n",
    "\n",
    "    O programa deve imprimir dez linhas, mostrando o resultado da multiplicação do \n",
    "    número digitado com os números de 1 a 10, no formato n * i = resultado, onde n é o número \n",
    "    digitado pelo usuário e i varia de 1 a 10.\n",
    "\n",
    "Exemplo de Entrada:\n",
    "\n",
    "A tabuada de qual número deseja ver 5\n",
    "\n",
    "\n",
    "Exemplo de Saída:\n",
    "\n",
    "5  * 1 =  5\n",
    "5  * 2 =  10\n",
    "5  * 3 =  15\n",
    "5  * 4 =  20\n",
    "5  * 5 =  25\n",
    "5  * 6 =  30\n",
    "5  * 7 =  35\n",
    "5  * 8 =  40\n",
    "5  * 9 =  45\n",
    "5  * 10 =  50\n",
    "\n",
    "\n",
    "\"\"\""
   ]
  },
  {
   "cell_type": "code",
   "execution_count": 12,
   "metadata": {},
   "outputs": [
    {
     "name": "stdout",
     "output_type": "stream",
     "text": [
      "80 * 1 = 80\n",
      "80 * 2 = 160\n",
      "80 * 3 = 240\n",
      "80 * 4 = 320\n",
      "80 * 5 = 400\n",
      "80 * 6 = 480\n",
      "80 * 7 = 560\n",
      "80 * 8 = 640\n",
      "80 * 9 = 720\n",
      "80 * 10 = 800\n"
     ]
    }
   ],
   "source": [
    "#Exercicio Tabuada\n",
    "numInp = int(input(\"Digite o numero inteiro: \"))\n",
    "print(numInp, \"* 1 =\", numInp * 1)\n",
    "print(numInp, \"* 2 =\", numInp * 2)\n",
    "print(numInp, \"* 3 =\", numInp * 3)\n",
    "print(numInp, \"* 4 =\", numInp * 4)\n",
    "print(numInp, \"* 5 =\", numInp * 5)\n",
    "print(numInp, \"* 6 =\", numInp * 6)\n",
    "print(numInp, \"* 7 =\", numInp * 7)\n",
    "print(numInp, \"* 8 =\", numInp * 8)\n",
    "print(numInp, \"* 9 =\", numInp * 9)\n",
    "print(numInp, \"* 10 =\", numInp * 10)\n",
    "\n"
   ]
  },
  {
   "cell_type": "code",
   "execution_count": null,
   "metadata": {},
   "outputs": [],
   "source": [
    "\"\"\"\n",
    "\n",
    "Exercício\n",
    "\n",
    "Crie um algoritmo que solicite o ano de nascimento do usuário e \n",
    "com base no ano corrente imprima a idade\n",
    "\n",
    "\"\"\""
   ]
  },
  {
   "cell_type": "code",
   "execution_count": 15,
   "metadata": {},
   "outputs": [
    {
     "name": "stdout",
     "output_type": "stream",
     "text": [
      "sua idade é:  129\n"
     ]
    }
   ],
   "source": [
    "#Exercicio Ano\n",
    "anoAtual = 2024\n",
    "anoNascimento = int(input(\"Digite sua data de nascimento\"))\n",
    "\n",
    "idade = anoAtual - anoNascimento\n",
    "\n",
    "print(\"sua idade é: \", idade)"
   ]
  }
 ],
 "metadata": {
  "kernelspec": {
   "display_name": "Python 3",
   "language": "python",
   "name": "python3"
  },
  "language_info": {
   "codemirror_mode": {
    "name": "ipython",
    "version": 3
   },
   "file_extension": ".py",
   "mimetype": "text/x-python",
   "name": "python",
   "nbconvert_exporter": "python",
   "pygments_lexer": "ipython3",
   "version": "3.12.5"
  }
 },
 "nbformat": 4,
 "nbformat_minor": 2
}
