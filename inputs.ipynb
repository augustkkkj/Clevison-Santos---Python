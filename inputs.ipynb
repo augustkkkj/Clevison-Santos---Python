{
 "cells": [
  {
   "cell_type": "code",
   "execution_count": 3,
   "metadata": {},
   "outputs": [
    {
     "name": "stdout",
     "output_type": "stream",
     "text": [
      "\n",
      "o seu nome é: otavio\n"
     ]
    }
   ],
   "source": [
    "nome = input(\"digite seu nome: \\n\")\n",
    "\n",
    "print(\"\\no seu nome é: \" + nome)"
   ]
  },
  {
   "cell_type": "code",
   "execution_count": 7,
   "metadata": {},
   "outputs": [
    {
     "name": "stdout",
     "output_type": "stream",
     "text": [
      "Aluno:  sds \n",
      "Média:  2954.0\n"
     ]
    }
   ],
   "source": [
    "\"\"\"\"\"\n",
    "com a função input isso faz que o usuario possa digitar strings\n",
    "e juntando input e o float permite que ele digita numbers\n",
    "\"\"\"\"\"\n",
    "nome = input(\"digite seu nome: \\n\")\n",
    "nota1 = float(input(\"digite a nota: \"))\n",
    "nota2 = float(input(\"digite a segunda nota: \"))\n",
    "\n",
    "media = (nota1 + nota2)/2\n",
    "\n",
    "print(\"Aluno: \", nome, \"\\nMédia: \", media)"
   ]
  },
  {
   "cell_type": "code",
   "execution_count": null,
   "metadata": {},
   "outputs": [],
   "source": []
  }
 ],
 "metadata": {
  "kernelspec": {
   "display_name": "Python 3",
   "language": "python",
   "name": "python3"
  },
  "language_info": {
   "codemirror_mode": {
    "name": "ipython",
    "version": 3
   },
   "file_extension": ".py",
   "mimetype": "text/x-python",
   "name": "python",
   "nbconvert_exporter": "python",
   "pygments_lexer": "ipython3",
   "version": "3.12.5"
  }
 },
 "nbformat": 4,
 "nbformat_minor": 2
}
