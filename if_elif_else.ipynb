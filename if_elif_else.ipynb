{
 "cells": [
  {
   "cell_type": "code",
   "execution_count": null,
   "metadata": {},
   "outputs": [],
   "source": [
    "#python função if ou seja função se \n",
    "\n",
    "numero1 = 90\n",
    "numero2 = 12\n",
    "\n",
    "#se a variavel numero 1 é maior que a variavel numero 2\n",
    "if numero1 > numero2:\n",
    "    print('o numero 1 é maior que o numero 2')\n"
   ]
  },
  {
   "cell_type": "code",
   "execution_count": null,
   "metadata": {},
   "outputs": [],
   "source": [
    "#python função if... elif\n",
    "#eliof senão se\n",
    "\n",
    "numero1 = 6\n",
    "numero2 = 6\n",
    "\n",
    "\n",
    "if numero1 > numero2:\n",
    "    print('o numero 1 é maior que o numero 2')\n",
    "\n",
    "elif numero1 == numero2:\n",
    "    print('o numero 1 e numero 2 são iguais')"
   ]
  },
  {
   "cell_type": "code",
   "execution_count": null,
   "metadata": {},
   "outputs": [],
   "source": [
    "\"\"\"\n",
    "Exercicio:\n",
    "\n",
    "Adivinhe o numero secrto\n",
    "\n",
    "Vc foii desafiado a adivinhar o numero secreto entre 1 e 10!\n",
    "\n",
    "    Execute o programa.\n",
    "    Insira um numero inteiro entre 1 a 10 quando soliciado.\n",
    "    o programa ira informar se vc adivinhou corretamente o numero secreto ou não.\n",
    "\n",
    "seu objetivo é número é descobrir qual é número secreto. vc pode executar o programa quantas vezes quiser até adivinhar corretamente.\n",
    "\"\"\"    \n",
    "\n",
    "#define o numero secreto para o usuario acertar\n",
    "num1 = 7\n",
    "\n",
    "#solicita ao usuario q insira um numero inteiro entre 1 a 10\n",
    "chute = int(input('tente adivinhar o numero entre 1 a 10'))\n",
    "\n",
    "# se o numero for o nuemro secreto o usuario acertou\n",
    "if num1 == chute: \n",
    "    print('fi da puta acertou')\n",
    "\n",
    "#se o usuario errar \n",
    "else:\n",
    "    print('erroukkkkkkkkkkkkkkk')"
   ]
  },
  {
   "cell_type": "code",
   "execution_count": null,
   "metadata": {},
   "outputs": [],
   "source": [
    "\"\"\"\n",
    "Exercicio:\n",
    "\n",
    "Verifique a Elegibilidade para votar\n",
    "\n",
    "Neste exercicio, vc vai executar um programa q determina\n",
    "se uma pessoa está ou não elegivel para votar com base a idade\n",
    "\n",
    "    Execute o programa.\n",
    "    Insira sua idade quando solicitado.\n",
    "    O programa ira informar se vc é elegivel para votar ou não.\n",
    "\n",
    "idade minima é 18\n",
    "\"\"\"    \n",
    "\n",
    "idade = int(input(\"digite sua idade: \"))\n",
    "entrar = 18\n",
    "\n",
    "if idade >= 18:\n",
    "    print(\"vc pode votar\")\n",
    "    \n",
    "    \n",
    "else:\n",
    "      print(\"vc não pode votar\")"
   ]
  },
  {
   "cell_type": "code",
   "execution_count": null,
   "metadata": {},
   "outputs": [
    {
     "name": "stdout",
     "output_type": "stream",
     "text": [
      "o 2 é menor q o 10\n"
     ]
    }
   ],
   "source": [
    "#função if - elif - else\n",
    "#se - senão se - senão\n",
    "\n",
    "num1 = 2\n",
    "num2 = 10\n",
    "\n",
    "if num1 > num2:\n",
    "    print(f'o {num2} é maior que o {num1}')\n",
    "\n",
    "elif num1 == num2:\n",
    "    print(f'o {num1} é igual ao {num2}')\n",
    "\n",
    "else:\n",
    "    print(f'o {num1} é menor q o {num2}')\n"
   ]
  },
  {
   "cell_type": "code",
   "execution_count": null,
   "metadata": {},
   "outputs": [
    {
     "name": "stdout",
     "output_type": "stream",
     "text": [
      "vc recebeu 20% de desconto\n",
      "valor do desconto: R$ 2000.00\n",
      "valor da compra: R$ 8000.00\n"
     ]
    }
   ],
   "source": [
    "\"\"\"\n",
    "Exercicio:\n",
    "\n",
    "Calculadora de Descontos\n",
    "\n",
    "Vc é um cliente em uma loja q está tendo uma promoção especial. Dependendo do valor\n",
    "da sua compra, vc pode receber um desconto!\n",
    "\n",
    "    Execute o programa.\n",
    "    Insira o valor da sua compra quando solicitado.\n",
    "    O programa ira calcular e informar o valor do desconto aplicado e o valor final com o desconto.\n",
    "\n",
    "Os descontos são aplicados da seguinte forma:\n",
    "\n",
    "\n",
    "Compras acima R$1000 recebem 20% de desconto.\n",
    "Compras de R$500 recebem 10% de desconto.\n",
    "Compras abaixo de R$500 não recebem desconto.\n",
    "\"\"\"    \n",
    "\n",
    "#solicita o valor da compra\n",
    "compra = float(input('Insira o valor da compra: R$'))\n",
    "\n",
    "#verifica em qual categoria de desconto a compra se encaixa\n",
    "if compra > 1000:\n",
    "\n",
    "    #se a compra for maior que $1000, a plica um desconto de 20%\n",
    "    desconto = 0.20 * compra\n",
    "    print('vc recebeu 20% de desconto')\n",
    "\n",
    "\n",
    "\n",
    "elif compra >= 500 and compra <= 1000:\n",
    "\n",
    "    #se a compra for entre R$500 e R$1000, aplica um desconto de 10%\n",
    "    desconto = 0.10 * compra\n",
    "    print('vc recebeu 10% de desconto')\n",
    "\n",
    "else:\n",
    "\n",
    "    #se a compra for menor que R$500, não recebe desconto\n",
    "    desconto = 0 \n",
    "    print('vc n recebeu desconto')\n",
    "\n",
    "\n",
    "#calcula o valor final com o desconto\n",
    "valor_final = compra - desconto\n",
    "\n",
    "#imprima o valor do desconto e o final da compra\n",
    "print(f'valor do desconto: R$ {desconto:.2f}')\n",
    "print(f'valor da compra: R$ {valor_final:.2f}')"
   ]
  },
  {
   "cell_type": "code",
   "execution_count": 6,
   "metadata": {},
   "outputs": [
    {
     "name": "stdout",
     "output_type": "stream",
     "text": [
      "o 19 é maior que uma ou mais condições\n"
     ]
    }
   ],
   "source": [
    "#if com or\n",
    "#se com ou\n",
    "\n",
    "\n",
    "num1 = 19\n",
    "num2 = 150\n",
    "num3 = 18\n",
    "\n",
    "if num1 > num2 or num1 > num3:\n",
    "    print(f'o {num1} é maior que uma ou mais condições')"
   ]
  },
  {
   "cell_type": "code",
   "execution_count": 7,
   "metadata": {},
   "outputs": [
    {
     "name": "stdout",
     "output_type": "stream",
     "text": [
      "vc pode entrar\n"
     ]
    }
   ],
   "source": [
    "\"\"\"\n",
    "Exercicio:\n",
    "\n",
    "Entrada para um evendo exclusivo\n",
    "\n",
    "Vc foi convidado para um evento exclusivo. Para entrar, vc deve atender a pelo menos uma das condições\n",
    "\n",
    "    Ter um convite VIP.\n",
    "    Estar na lista.\n",
    "   Ser um membro do clube.\n",
    "\n",
    "Execute o programa\n",
    "\n",
    "\n",
    "Responda as perguntas fornecidas com 'sim' oou 'não'.\n",
    "O programa ira informar se vc pode entrar no evento ou não.\n",
    "\"\"\" \n",
    "\n",
    "vip = input('vc possui um convite vip?(s/n)')\n",
    "\n",
    "lista = input('vc está na lista?(s/n)')\n",
    "\n",
    "membro = input('vc é membro do clube?(s/n)')\n",
    "\n",
    "if vip == 'sim' or lista == 'sim' or membro == 'sim':\n",
    "    print('vc pode entrar')\n",
    "\n",
    "else:\n",
    "    print('vc n pode entrar')"
   ]
  },
  {
   "cell_type": "code",
   "execution_count": null,
   "metadata": {},
   "outputs": [
    {
     "name": "stdout",
     "output_type": "stream",
     "text": [
      "o numero 56 é par\n"
     ]
    }
   ],
   "source": [
    "\"\"\"\n",
    "Exercicio:\n",
    "\n",
    "Impar ou Par\n",
    "\n",
    "Crie um algoritimo que indentifica se o numero é impar ou par\n",
    "\"\"\" \n",
    "\n",
    "\n",
    "num1 = int(input('digite um numero: '))\n",
    "\n",
    "verifica = num1 % 2\n",
    "\n",
    "if verifica == 0:\n",
    "    print(f'o numero {num1} é par')\n",
    "\n",
    "else:\n",
    "    print(f'o numero {num1} é impar')"
   ]
  },
  {
   "cell_type": "code",
   "execution_count": 7,
   "metadata": {},
   "outputs": [
    {
     "name": "stdout",
     "output_type": "stream",
     "text": [
      "não pode entrar\n",
      "3 é ímpar\n"
     ]
    }
   ],
   "source": [
    "idade = int(input('digite sua idade: '))\n",
    "result = 'pode entrar' if idade >= 18 else 'não pode entrar'\n",
    "\n",
    "print(result)\n",
    "\n",
    "\n",
    "\n",
    "num1 = int(input('Digite um número: '))\n",
    "result = f'{num1} é par' if num1 % 2 == 0 else f'{num1} é ímpar'\n",
    "print(result)"
   ]
  }
 ],
 "metadata": {
  "kernelspec": {
   "display_name": "Python 3",
   "language": "python",
   "name": "python3"
  },
  "language_info": {
   "codemirror_mode": {
    "name": "ipython",
    "version": 3
   },
   "file_extension": ".py",
   "mimetype": "text/x-python",
   "name": "python",
   "nbconvert_exporter": "python",
   "pygments_lexer": "ipython3",
   "version": "3.12.5"
  }
 },
 "nbformat": 4,
 "nbformat_minor": 2
}
