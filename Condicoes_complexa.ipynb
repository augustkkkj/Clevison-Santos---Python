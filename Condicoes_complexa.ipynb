{
 "cells": [
  {
   "cell_type": "code",
   "execution_count": null,
   "metadata": {},
   "outputs": [
    {
     "name": "stdout",
     "output_type": "stream",
     "text": [
      "x: 5\n",
      "y: 15\n",
      "x: 6\n",
      "y: 14\n",
      "x: 7\n",
      "y: 13\n",
      "x: 8\n",
      "y: 12\n",
      "x: 9\n",
      "y: 11\n",
      "loop concluido\n",
      "valores finais\n",
      "x: 10\n",
      "y: 10\n"
     ]
    }
   ],
   "source": [
    "#while com condição complexa\n",
    "x, y = 5, 15\n",
    "\n",
    "#o exemplo abaixo demonstra um programa que continua incrementando x e decrementando y\n",
    "#enquanto x for menor que 10 e y for maior que 10\n",
    "\n",
    "#o loop continuara enquanto ambas as condições forem verdadeiras: x < 10 e y > 10\n",
    "while x < 10 and y > 10:\n",
    "    print(f'x: {x}\\ny: {y}')#imprimndo os valores atuais de x e y\n",
    "\n",
    "    x += 1#incrementa x em 1\n",
    "    y -= 1#decrementa y em 1\n",
    "\n",
    "\n",
    "\n",
    "print('loop concluido')\n",
    "print(f'valores finais x: {x}, y: {y}')"
   ]
  },
  {
   "cell_type": "code",
   "execution_count": null,
   "metadata": {},
   "outputs": [
    {
     "name": "stdout",
     "output_type": "stream",
     "text": [
      "Tentativas restantes: 5\n",
      "tente novamente\n",
      "Tentativas restantes: 4\n",
      "tente novamente\n",
      "Tentativas restantes: 3\n",
      "tente novamente\n",
      "Tentativas restantes: 2\n",
      "tente novamente\n",
      "Tentativas restantes: 1\n"
     ]
    },
    {
     "ename": "ValueError",
     "evalue": "invalid literal for int() with base 10: ''",
     "output_type": "error",
     "traceback": [
      "\u001b[1;31m---------------------------------------------------------------------------\u001b[0m",
      "\u001b[1;31mValueError\u001b[0m                                Traceback (most recent call last)",
      "Cell \u001b[1;32mIn[6], line 11\u001b[0m\n\u001b[0;32m      8\u001b[0m \u001b[38;5;28;01mwhile\u001b[39;00m tentativas \u001b[38;5;241m>\u001b[39m \u001b[38;5;241m0\u001b[39m \u001b[38;5;129;01mand\u001b[39;00m (\u001b[38;5;129;01mnot\u001b[39;00m adivinhou1 \u001b[38;5;241m==\u001b[39m \u001b[38;5;28;01mTrue\u001b[39;00m \u001b[38;5;129;01mor\u001b[39;00m \u001b[38;5;129;01mnot\u001b[39;00m adivinhou2 \u001b[38;5;241m==\u001b[39m \u001b[38;5;28;01mTrue\u001b[39;00m):\n\u001b[0;32m      9\u001b[0m     \u001b[38;5;28mprint\u001b[39m(\u001b[38;5;124mf\u001b[39m\u001b[38;5;124m'\u001b[39m\u001b[38;5;124mTentativas restantes: \u001b[39m\u001b[38;5;132;01m{\u001b[39;00mtentativas\u001b[38;5;132;01m}\u001b[39;00m\u001b[38;5;124m'\u001b[39m)\n\u001b[1;32m---> 11\u001b[0m     palpite \u001b[38;5;241m=\u001b[39m \u001b[38;5;28;43mint\u001b[39;49m\u001b[43m(\u001b[49m\u001b[38;5;28;43minput\u001b[39;49m\u001b[43m(\u001b[49m\u001b[38;5;124;43m'\u001b[39;49m\u001b[38;5;124;43madivinhe o primeino numero secreto (1-10): \u001b[39;49m\u001b[38;5;124;43m'\u001b[39;49m\u001b[43m)\u001b[49m\u001b[43m)\u001b[49m\n\u001b[0;32m     12\u001b[0m     palpite2 \u001b[38;5;241m=\u001b[39m \u001b[38;5;28mint\u001b[39m(\u001b[38;5;28minput\u001b[39m(\u001b[38;5;124m'\u001b[39m\u001b[38;5;124madivinhe o segundo numero secreto (1-10): \u001b[39m\u001b[38;5;124m'\u001b[39m))\n\u001b[0;32m     14\u001b[0m     \u001b[38;5;28;01mif\u001b[39;00m palpite \u001b[38;5;241m==\u001b[39m num_secreto1:\n",
      "\u001b[1;31mValueError\u001b[0m: invalid literal for int() with base 10: ''"
     ]
    }
   ],
   "source": [
    "# Define o primeiro número secreto\n",
    "num_secreto1 = 7\n",
    "\n",
    "# Define o segundo número secreto\n",
    "num_secreto2 = 3\n",
    "\n",
    "# Define o número total de tentativas disponíveis\n",
    "tentativas = 5\n",
    "\n",
    "# Variável para indicar se o primeiro número secreto foi adivinhado\n",
    "adivinhou1 = False\n",
    "\n",
    "# Variável para indicar se o segundo número secreto foi adivinhado\n",
    "adivinhou2 = False\n",
    "\n",
    "# Loop principal do jogo, continua enquanto houver tentativas e pelo menos um número não for adivinhado\n",
    "while tentativas > 0 and (not adivinhou1 == True or not adivinhou2 == True):\n",
    "    # Exibe o número de tentativas restantes\n",
    "    print(f'Tentativas restantes: {tentativas}')\n",
    "\n",
    "    # Solicita ao usuário um palpite para o primeiro número secreto\n",
    "    palpite = int(input('adivinhe o primeino numero secreto (1-10): '))\n",
    "\n",
    "    # Solicita ao usuário um palpite para o segundo número secreto\n",
    "    palpite2 = int(input('adivinhe o segundo numero secreto (1-10): '))\n",
    "\n",
    "    # Verifica se o palpite corresponde ao primeiro número secreto\n",
    "    if palpite == num_secreto1:\n",
    "        print(f'vc acertou o primeiro numero secreto: {num_secreto1}')\n",
    "\n",
    "        # Atualiza a variável indicando que o primeiro número foi adivinhado\n",
    "        adivinhou1 = True\n",
    "\n",
    "    # Verifica se o palpite corresponde ao segundo número secreto\n",
    "    if palpite2 == num_secreto2:\n",
    "        print(f'vc acertou o segundo numero secreto: {num_secreto2}')\n",
    "\n",
    "        # Atualiza a variável indicando que o segundo número foi adivinhado\n",
    "        adivinhou2 = True\n",
    "\n",
    "    # Caso os números não tenham sido adivinhados, exibe mensagem e decrementa as tentativas\n",
    "    if not adivinhou1 == True or not adivinhou2 == True:\n",
    "        print('tente novamente')\n",
    "\n",
    "        # Reduz o número de tentativas disponíveis\n",
    "        tentativas -= 1\n",
    "\n",
    "# Verifica se ambos os números foram adivinhados corretamente\n",
    "if adivinhou1 == True and adivinhou2 == True:\n",
    "    # Mensagem de sucesso caso ambos os números tenham sido adivinhados\n",
    "    print('vc acertou os dois numeros')\n",
    "\n",
    "else:\n",
    "    # Mensagem de erro caso o usuário não tenha adivinhado os números\n",
    "    print(f'vc n acertou so numeros que eram num1: {num_secreto1}, num2: {num_secreto2}')\n"
   ]
  }
 ],
 "metadata": {
  "kernelspec": {
   "display_name": "Python 3",
   "language": "python",
   "name": "python3"
  },
  "language_info": {
   "codemirror_mode": {
    "name": "ipython",
    "version": 3
   },
   "file_extension": ".py",
   "mimetype": "text/x-python",
   "name": "python",
   "nbconvert_exporter": "python",
   "pygments_lexer": "ipython3",
   "version": "3.12.5"
  }
 },
 "nbformat": 4,
 "nbformat_minor": 2
}
