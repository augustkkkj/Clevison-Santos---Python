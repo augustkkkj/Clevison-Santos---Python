{
 "cells": [
  {
   "cell_type": "code",
   "execution_count": 2,
   "id": "81138484-9932-4a76-9622-defdb8a8d63f",
   "metadata": {},
   "outputs": [
    {
     "name": "stdout",
     "output_type": "stream",
     "text": [
      "Script executado com sucesso!\n"
     ]
    }
   ],
   "source": [
    "#Este sinal serve para comentar um codigo para q o usuario saiba oq o codigo faz\n",
    "\n",
    "\"\"\"\n",
    "usando tras aspas podemos comentar varias linhas\n",
    "\"\"\"\n",
    "\n",
    "print(\"Script executado com sucesso!\")"
   ]
  },
  {
   "cell_type": "code",
   "execution_count": 3,
   "id": "e110c780-6df3-4780-aedd-c57fd9912f07",
   "metadata": {},
   "outputs": [
    {
     "name": "stdout",
     "output_type": "stream",
     "text": [
      "42\n"
     ]
    }
   ],
   "source": [
    "inteiro = 42\n",
    "print(inteiro)"
   ]
  },
  {
   "cell_type": "code",
   "execution_count": null,
   "id": "7aebb216-6484-4cac-9e10-eb751e32f02c",
   "metadata": {},
   "outputs": [],
   "source": []
  }
 ],
 "metadata": {
  "kernelspec": {
   "display_name": "Python 3 (ipykernel)",
   "language": "python",
   "name": "python3"
  },
  "language_info": {
   "codemirror_mode": {
    "name": "ipython",
    "version": 3
   },
   "file_extension": ".py",
   "mimetype": "text/x-python",
   "name": "python",
   "nbconvert_exporter": "python",
   "pygments_lexer": "ipython3",
   "version": "3.12.4"
  }
 },
 "nbformat": 4,
 "nbformat_minor": 5
}
