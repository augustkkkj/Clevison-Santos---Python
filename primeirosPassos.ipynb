{
 "cells": [
  {
   "cell_type": "code",
   "execution_count": 2,
   "id": "81138484-9932-4a76-9622-defdb8a8d63f",
   "metadata": {},
   "outputs": [
    {
     "name": "stdout",
     "output_type": "stream",
     "text": [
      "Script executado com sucesso!\n"
     ]
    }
   ],
   "source": [
    "#Este sinal serve para comentar um codigo para q o usuario saiba oq o codigo faz\n",
    "\n",
    "\"\"\"\n",
    "usando tras aspas podemos comentar varias linhas\n",
    "\"\"\"\n",
    "\n",
    "print(\"Script executado com sucesso!\")"
   ]
  },
  {
   "cell_type": "code",
   "execution_count": 3,
   "id": "e110c780-6df3-4780-aedd-c57fd9912f07",
   "metadata": {},
   "outputs": [
    {
     "name": "stdout",
     "output_type": "stream",
     "text": [
      "42\n"
     ]
    }
   ],
   "source": [
    "inteiro = 42\n",
    "print(inteiro)"
   ]
  },
  {
   "cell_type": "code",
   "execution_count": 2,
   "id": "377c0601-904c-4e67-92ff-a84271bca650",
   "metadata": {},
   "outputs": [
    {
     "name": "stdout",
     "output_type": "stream",
     "text": [
      "a casa custa: 10000\n",
      "meu sonho é pesar 70.0\n",
      "complexo: (4+3j)\n",
      "quero ser feliz\n",
      "listas: [1, 2, 3, 4, 5]\n",
      "tuplas: (1, 3, 4, 5)\n",
      "conjunto: {1, 2, 3}\n",
      "dicionario: {'chave': 'valor'}\n",
      "bola: False\n",
      "vazio... igual o meu coração(ain como eu sou edgy): None\n"
     ]
    }
   ],
   "source": [
    "#inteiros: numeros completos(não decimais)\n",
    "inteiro = 10000\n",
    "print(\"a casa custa:\", inteiro)\n",
    "\n",
    "#flutuantes: numeros q tem uma parte decimal\n",
    "flutuante = 70.0\n",
    "print(\"meu sonho é pesar\", flutuante)\n",
    "\n",
    "#complexos: numeros q tem a uma parte real e uma parte imaginaria\n",
    "complexo = 4 + 3j\n",
    "print(\"complexo:\", complexo)\n",
    "\n",
    "#strings: sequencias de caracteres\n",
    "texto = \"quero ser feliz\"\n",
    "print(texto)\n",
    "\n",
    "#listas (list): uma coleção ordenada e mutavel\n",
    "lista = [1, 2, 3, 4, 5]\n",
    "print(\"listas:\", lista)\n",
    "\n",
    "#tuplas (tuple): uma coleção ordenada e imutavel\n",
    "tupla = (1, 3, 4, 5)\n",
    "print(\"tuplas:\", tupla)\n",
    "\n",
    "#conjuntos (set): uma coleção não ordenada de itends unicos\n",
    "conjunto = {1, 2, 3}\n",
    "print(\"conjunto:\", conjunto)\n",
    "\n",
    "#dicionarios (dict): uma coleção não ordenada de pares chave-valor\n",
    "dicionario = {\"chave\": \"valor\"}\n",
    "print(\"dicionario:\", dicionario)\n",
    "\n",
    "#booleans (bool): valores verdadeiro ou falso\n",
    "bola = False\n",
    "print(\"bola:\", bola)\n",
    "\n",
    "#nonetype (none): um tipo especial q representa a falta de valor\n",
    "nenhum = None\n",
    "print(\"vazio... igual o meu coração(ain como eu sou edgy):\", nenhum)"
   ]
  },
  {
   "cell_type": "code",
   "execution_count": 4,
   "id": "cb25151d-3785-4a8f-a94c-050ed27fd456",
   "metadata": {},
   "outputs": [
    {
     "name": "stdout",
     "output_type": "stream",
     "text": [
      "Nome: Otávio\n",
      "Idade: 20\n",
      "Nome: Otávio - Idade: 20\n"
     ]
    }
   ],
   "source": [
    "#variaveis\n",
    "\n",
    "idade = 20\n",
    "nome = \"Otávio\"\n",
    "print(\"Nome:\", nome)\n",
    "print(\"Idade:\", idade)\n",
    "print(\"Nome:\", nome, \"- Idade:\", idade)\n",
    "\n",
    "\n",
    "#informações do professor V\n",
    "\n",
    "\n",
    "\"\"\"\n",
    "idade = 30: Nesta linha, estamos declarando uma variável chamada \n",
    "idade e atribuindo o valor 30 a ela. Essa variável pode ser usada posteriormente \n",
    "no código para referenciar esse valor.\n",
    "\n",
    "nome = \"Nicole\": Aqui, estamos declarando uma variável chamada nome e atribuindo \n",
    "a ela a string \"Nicole\". Assim como a variável idade, essa variável também pode ser \n",
    "usada posteriormente no código.\n",
    "\n",
    "print(\"Nome: \", nome, \" Idade: \", idade): Esta linha usa a função print para \n",
    "imprimir uma string na tela. Ela começa com a string literal \"Nome: \", seguida pelo valor \n",
    "da variável nome, que é \"Nicole\", uma string literal com espaço e \" Idade: \", e finalmente \n",
    "o valor da variável idade, que é 30.\n",
    "\"\"\""
   ]
  }
 ],
 "metadata": {
  "kernelspec": {
   "display_name": "Python 3",
   "language": "python",
   "name": "python3"
  },
  "language_info": {
   "codemirror_mode": {
    "name": "ipython",
    "version": 3
   },
   "file_extension": ".py",
   "mimetype": "text/x-python",
   "name": "python",
   "nbconvert_exporter": "python",
   "pygments_lexer": "ipython3",
   "version": "3.12.5"
  }
 },
 "nbformat": 4,
 "nbformat_minor": 5
}
